{
 "cells": [
  {
   "cell_type": "code",
   "execution_count": 2,
   "metadata": {},
   "outputs": [],
   "source": [
    "from langchain_community.document_loaders import WikipediaLoader"
   ]
  },
  {
   "cell_type": "code",
   "execution_count": 3,
   "metadata": {},
   "outputs": [
    {
     "name": "stderr",
     "output_type": "stream",
     "text": [
      "d:\\Python\\Python310\\envd\\lib\\site-packages\\wikipedia\\wikipedia.py:389: GuessedAtParserWarning: No parser was explicitly specified, so I'm using the best available HTML parser for this system (\"html.parser\"). This usually isn't a problem, but if you run this code on another system, or in a different virtual environment, it may use a different parser and behave differently.\n",
      "\n",
      "The code that caused this warning is on line 389 of the file d:\\Python\\Python310\\envd\\lib\\site-packages\\wikipedia\\wikipedia.py. To get rid of this warning, pass the additional argument 'features=\"html.parser\"' to the BeautifulSoup constructor.\n",
      "\n",
      "  lis = BeautifulSoup(html).find_all('li')\n"
     ]
    }
   ],
   "source": [
    "docs = WikipediaLoader(query=\"brazil\", load_max_docs=10).load()"
   ]
  },
  {
   "cell_type": "code",
   "execution_count": 4,
   "metadata": {},
   "outputs": [
    {
     "data": {
      "text/plain": [
       "[Document(page_content='Brazil (Portuguese: Brasil; Brazilian Portuguese: [bɾaˈziw] ), officially the Federative Republic of Brazil (Portuguese: ), is the largest country in South America and in Latin America. Brazil is the world\\'s fifth-largest country by area and the seventh most populous. Its capital is Brasília, and its most populous city is São Paulo. The federation is composed of the union of the 26 states and the Federal District. It is the only country in the Americas to have Portuguese as an official language. It is one of the most multicultural and ethnically diverse nations, due to over a century of mass immigration from around the world, and the most populous Roman Catholic-majority country.\\nBounded by the Atlantic Ocean on the east, Brazil has a coastline of 7,491 kilometers (4,655 mi). It borders all other countries and territories in South America except Ecuador and Chile and covers roughly half of the continent\\'s land area. Its Amazon basin includes a vast tropical forest, home to diverse wildlife, a variety of ecological systems, and extensive natural resources spanning numerous protected habitats. This unique environmental heritage positions Brazil at number one of 17 megadiverse countries, and is the subject of significant global interest, as environmental degradation through processes like deforestation has direct impacts on global issues like climate change and biodiversity loss.\\nThe territory which would become known as Brazil was inhabited by numerous tribal nations prior to the landing in 1500 of explorer Pedro Álvares Cabral, who claimed the discovered land for the Portuguese Empire. Brazil remained a Portuguese colony until 1808 when the capital of the empire was transferred from Lisbon to Rio de Janeiro. In 1815, the colony was elevated to the rank of kingdom upon the formation of the United Kingdom of Portugal, Brazil and the Algarves. Independence was achieved in 1822 with the creation of the Empire of Brazil, a unitary state governed under a constitutional monarchy and a parliamentary system. The ratification of the first constitution in 1824 led to the formation of a bicameral legislature, now called the National Congress. Slavery was abolished in 1888. The country became a presidential republic in 1889 following a military coup d\\'état. An authoritarian military dictatorship emerged in 1964 and ruled until 1985, after which civilian governance resumed. Brazil\\'s current constitution, formulated in 1988, defines it as a democratic federal republic. Due to its rich culture and history, the country ranks thirteenth in the world by number of UNESCO World Heritage Sites.Brazil is a regional and middle power that is an emerging power and a major non-NATO ally of the United States. Categorised as a developing country with a high Human Development Index, Brazil is considered an advanced emerging economy, having the ninth largest GDP in the world by nominal, and eighth by PPP measures, the largest in Latin America. As an upper-middle income economy by the World Bank and a newly industrialized country, Brazil has the largest share of global wealth in South America and it is one of the world\\'s major breadbaskets, being the largest producer of coffee for the last 150 years. However, the country retains noticeable corruption, crime and social inequality. Brazil is a founding member of the United Nations, the G20, BRICS, G4, Mercosul, Organization of American States, Organization of Ibero-American States and the Community of Portuguese Language Countries. Brazil is also an Observer State of the Arab League.\\n\\n\\n== Etymology ==\\n\\nThe word \"Brazil\" likely comes from the Portuguese word for brazilwood, a tree that once grew plentifully along the Brazilian coast. In Portuguese, brazilwood is called pau-brasil, with the word brasil commonly given the etymology \"red like an ember\", formed from brasa (\"ember\") and the suffix -il (from -iculum or -ilium). As brazilwood produces a deep red dye, it was highly valued by the European textile industr', metadata={'title': 'Brazil', 'summary': \"Brazil (Portuguese: Brasil; Brazilian Portuguese: [bɾaˈziw] ), officially the Federative Republic of Brazil (Portuguese: ), is the largest country in South America and in Latin America. Brazil is the world's fifth-largest country by area and the seventh most populous. Its capital is Brasília, and its most populous city is São Paulo. The federation is composed of the union of the 26 states and the Federal District. It is the only country in the Americas to have Portuguese as an official language. It is one of the most multicultural and ethnically diverse nations, due to over a century of mass immigration from around the world, and the most populous Roman Catholic-majority country.\\nBounded by the Atlantic Ocean on the east, Brazil has a coastline of 7,491 kilometers (4,655 mi). It borders all other countries and territories in South America except Ecuador and Chile and covers roughly half of the continent's land area. Its Amazon basin includes a vast tropical forest, home to diverse wildlife, a variety of ecological systems, and extensive natural resources spanning numerous protected habitats. This unique environmental heritage positions Brazil at number one of 17 megadiverse countries, and is the subject of significant global interest, as environmental degradation through processes like deforestation has direct impacts on global issues like climate change and biodiversity loss.\\nThe territory which would become known as Brazil was inhabited by numerous tribal nations prior to the landing in 1500 of explorer Pedro Álvares Cabral, who claimed the discovered land for the Portuguese Empire. Brazil remained a Portuguese colony until 1808 when the capital of the empire was transferred from Lisbon to Rio de Janeiro. In 1815, the colony was elevated to the rank of kingdom upon the formation of the United Kingdom of Portugal, Brazil and the Algarves. Independence was achieved in 1822 with the creation of the Empire of Brazil, a unitary state governed under a constitutional monarchy and a parliamentary system. The ratification of the first constitution in 1824 led to the formation of a bicameral legislature, now called the National Congress. Slavery was abolished in 1888. The country became a presidential republic in 1889 following a military coup d'état. An authoritarian military dictatorship emerged in 1964 and ruled until 1985, after which civilian governance resumed. Brazil's current constitution, formulated in 1988, defines it as a democratic federal republic. Due to its rich culture and history, the country ranks thirteenth in the world by number of UNESCO World Heritage Sites.Brazil is a regional and middle power that is an emerging power and a major non-NATO ally of the United States. Categorised as a developing country with a high Human Development Index, Brazil is considered an advanced emerging economy, having the ninth largest GDP in the world by nominal, and eighth by PPP measures, the largest in Latin America. As an upper-middle income economy by the World Bank and a newly industrialized country, Brazil has the largest share of global wealth in South America and it is one of the world's major breadbaskets, being the largest producer of coffee for the last 150 years. However, the country retains noticeable corruption, crime and social inequality. Brazil is a founding member of the United Nations, the G20, BRICS, G4, Mercosul, Organization of American States, Organization of Ibero-American States and the Community of Portuguese Language Countries. Brazil is also an Observer State of the Arab League.\", 'source': 'https://en.wikipedia.org/wiki/Brazil'}),\n",
       " Document(page_content='The Brazil national football team (Portuguese: Seleção Brasileira de Futebol), nicknamed Seleção Canarinha (\"Canary Squad\", after their bright yellow jersey), represents Brazil in men\\'s international football and is administered by the Brazilian Football Confederation (CBF), the governing body for football in Brazil. They have been a member of FIFA since 1923 and a member of CONMEBOL since 1916.\\nBrazil is the most successful national team in the FIFA World Cup, being crowned winner five times: 1958, 1962, 1970, 1994 and 2002. The Seleção also has the best overall performance in the World Cup competition, both in proportional and absolute terms, with a record of 76 victories in 114 matches played, 129 goal difference, 247 points, and 19 losses. It is the only national team to have played in all World Cup editions without any absence nor need for playoffs, and the only team to have won the World Cup in four different continents: once in Europe (1958 Sweden), once in South America (1962 Chile), twice in North America (1970 Mexico and 1994 United States), and once in Asia (2002 South Korea/Japan). Brazil was also the most successful team in the now-defunct FIFA Confederations Cup, winning it four times, in 1997, 2005, 2009, and 2013. With the capture of the gold medal at the 2016 Summer Olympics, Brazil has become one of only two countries, the others being France, to have won all men\\'s FIFA 11-player competitions at all age level.In ranking standings, Brazil have the highest average football Elo rating, and the fourth all-time peak football Elo rating, established in 1962. In FIFA\\'s ranking system Brazil holds the record for most Team of the Year first ranking wins with 13. Many commentators, experts, and former players have considered the Brazil team of 1970 to be the greatest team of all time. Other Brazilian teams are also highly esteemed and regularly appear listed among the best teams of all time, such as the Brazil teams of 1958–62 and the squads of the 1994–02 period, with honorary mentions for the gifted 1982 side. In 1996, the Brazil national team achieved 35 consecutive matches undefeated, a feat which they held as a world record for 25 years.Brazil has developed many rivalries through the years, with the most notable ones being with Argentina—known as the \"Superclássico das Américas\" in Portuguese, Italy—known as the \"Clássico Mundial\" in Portuguese or the World Derby in English, Uruguay due to the traumatic Maracanazo, and the Netherlands due to several important meetings between the two teams at several World Cups.\\n\\n\\n== History ==\\n\\n\\n=== Early history (1914–1922) ===\\nIt is generally believed that the inaugural game of the Brazil national football team was a 1914 match between a Rio de Janeiro and São Paulo select team and the English club Exeter City, held in Fluminense\\'s stadium. Brazil won 2–0 with goals by Oswaldo Gomes and Osman, though it is claimed that the match was a 3–3 draw.In contrast to its future success, the national team\\'s early appearances were not brilliant. Other early matches played during that time include several friendly games against Argentina (being defeated 3–0), Chile (first in 1916) and Uruguay (first on 12 July 1916). However, led by the goalscoring abilities of Arthur Friedenreich, they were victorious at home in the South American Championships in 1919, repeating their victory, also at home, in 1922.\\n\\n\\n=== First World Cup and title drought (1930–1949) ===\\nIn 1930, Brazil played in the first World Cup, held in Uruguay. The squad defeated Bolivia but lost to Yugoslavia, being eliminated from the competition at group stage. They lost in the first round to Spain in 1934 in Italy, but reached the semi-finals in France in 1938, being defeated 2–1 by eventual winners Italy. Brazil were the only South American team to participate in this competition.\\nThe 1949 South American Championship held in Brazil ended a 27-year streak without official titles. The last one was in the 1922 South American Cham', metadata={'title': 'Brazil national football team', 'summary': 'The Brazil national football team (Portuguese: Seleção Brasileira de Futebol), nicknamed Seleção Canarinha (\"Canary Squad\", after their bright yellow jersey), represents Brazil in men\\'s international football and is administered by the Brazilian Football Confederation (CBF), the governing body for football in Brazil. They have been a member of FIFA since 1923 and a member of CONMEBOL since 1916.\\nBrazil is the most successful national team in the FIFA World Cup, being crowned winner five times: 1958, 1962, 1970, 1994 and 2002. The Seleção also has the best overall performance in the World Cup competition, both in proportional and absolute terms, with a record of 76 victories in 114 matches played, 129 goal difference, 247 points, and 19 losses. It is the only national team to have played in all World Cup editions without any absence nor need for playoffs, and the only team to have won the World Cup in four different continents: once in Europe (1958 Sweden), once in South America (1962 Chile), twice in North America (1970 Mexico and 1994 United States), and once in Asia (2002 South Korea/Japan). Brazil was also the most successful team in the now-defunct FIFA Confederations Cup, winning it four times, in 1997, 2005, 2009, and 2013. With the capture of the gold medal at the 2016 Summer Olympics, Brazil has become one of only two countries, the others being France, to have won all men\\'s FIFA 11-player competitions at all age level.In ranking standings, Brazil have the highest average football Elo rating, and the fourth all-time peak football Elo rating, established in 1962. In FIFA\\'s ranking system Brazil holds the record for most Team of the Year first ranking wins with 13. Many commentators, experts, and former players have considered the Brazil team of 1970 to be the greatest team of all time. Other Brazilian teams are also highly esteemed and regularly appear listed among the best teams of all time, such as the Brazil teams of 1958–62 and the squads of the 1994–02 period, with honorary mentions for the gifted 1982 side. In 1996, the Brazil national team achieved 35 consecutive matches undefeated, a feat which they held as a world record for 25 years.Brazil has developed many rivalries through the years, with the most notable ones being with Argentina—known as the \"Superclássico das Américas\" in Portuguese, Italy—known as the \"Clássico Mundial\" in Portuguese or the World Derby in English, Uruguay due to the traumatic Maracanazo, and the Netherlands due to several important meetings between the two teams at several World Cups.', 'source': 'https://en.wikipedia.org/wiki/Brazil_national_football_team'}),\n",
       " Document(page_content='Brazilians (Portuguese: Brasileiros, IPA: [bɾaziˈlejɾus]) are the citizens of Brazil. A Brazilian can also be a person born abroad to a Brazilian parent or legal guardian as well as a person who acquired Brazilian citizenship. Brazil is a multiethnic society, which means that it is home to people of many ethnic origins, and there is no correlation between one\\'s stock and their Brazilian identity.\\nBeing Brazilian is a civic phenomenon, rather than an ethnic one. As a result, the degree to which Brazilian citizens identify with their ancestral roots varies significantly depending on the individual, the region of the country, and the specific ethnic origins in question. Most often, however, the idea of ethnicity as it is understood in the anglophone world is not popular in the country.\\nAfter the colonization of Brazil by the Portuguese, most of the 16th century, the word \"Brazilian\" was given to the Portuguese merchants of the Brazilwood tree, designating exclusively the name of such profession, since the inhabitants of the land were, in most of them, indigenous, or Portuguese born in Portugal or in the territory now called Brazil.However, long before the independence of Brazil, in 1822, both in Brazil and in Portugal, it was already common to assign the Brazilian gentile to a person, usually of clear Portuguese descent, resident or whose family resided in the State of Brazil (1530–1815), belonging to the Portuguese Empire. During the lifetime of the United Kingdom of Portugal, Brazil and the Algarves (1815–1822), however, there was confusion about the nomenclature.\\n\\n\\n== Definition ==\\n\\nAccording to the Constitution of Brazil, a Brazilian citizen is:\\n\\nAnyone born in Brazil, even if to foreign born parents. However, if the foreign parents were at the service of a foreign State (such as foreign diplomats), the child is not Brazilian;\\nAnyone born abroad to a Brazilian father or a Brazilian mother, with registration of birth in a Brazilian Embassy or Consulate. Also, a person born abroad to a Brazilian father or a Brazilian mother who was not registered but who, after turning 18 years old, went to live in Brazil;\\nA foreigner living in Brazil who applied for and was accepted as a Brazilian citizen.According to the Constitution, all people who hold Brazilian citizenship are equal, regardless of race, ethnicity, gender or religion.\\nA foreigner can apply for Brazilian citizenship after living for four uninterrupted years in Brazil and being able to speak Portuguese language. A native person from an official Portuguese language country (Portugal, Angola, Mozambique, Cape Verde, São Tomé and Príncipe, Guinea Bissau, Equatorial Guinea, and East Timor) can request the Brazilian nationality after only 1 uninterrupted year living in Brazil. A foreign born person who holds Brazilian citizenship has exactly the same rights and duties of the Brazilian citizen by birth, but cannot occupy some special public positions such as the Presidency of the Republic, Vice-presidency of the Republic, Minister (Secretary) of Defense, Presidency (Speaker) of the Senate, Presidency (Speaker) of the House of Representatives, Officer of the Armed Forces and Diplomat.In 2021, the population in Brazil is 214 million people. The number is updated live by the Brazilian Institute of Geography and Statistics (IBGE - Census).\\n\\n\\n== History and overview ==\\n\\nBrazilians are mostly descendants of Portuguese settlers, post-colonial immigrant groups, enslaved Africans and Brazil\\'s indigenous peoples. The main historic waves of immigration to Brazil have  occurred from the 1820s well into the 1970s, most of the settlers were Portuguese, Italians, Germans, and Spaniards, with significant minorities of Japanese,  Poles, Ukrainians and Levantine Arabs.\\n\\n\\n=== Ancestry of Brazilians ===\\nThe first inhabitants of what would become Brazil were people whose ancestry can be traced back to Asian populations that crossed the Bering Strait, passing from Siberia to the Americas. There are indi', metadata={'title': 'Brazilians', 'summary': 'Brazilians (Portuguese: Brasileiros, IPA: [bɾaziˈlejɾus]) are the citizens of Brazil. A Brazilian can also be a person born abroad to a Brazilian parent or legal guardian as well as a person who acquired Brazilian citizenship. Brazil is a multiethnic society, which means that it is home to people of many ethnic origins, and there is no correlation between one\\'s stock and their Brazilian identity.\\nBeing Brazilian is a civic phenomenon, rather than an ethnic one. As a result, the degree to which Brazilian citizens identify with their ancestral roots varies significantly depending on the individual, the region of the country, and the specific ethnic origins in question. Most often, however, the idea of ethnicity as it is understood in the anglophone world is not popular in the country.\\nAfter the colonization of Brazil by the Portuguese, most of the 16th century, the word \"Brazilian\" was given to the Portuguese merchants of the Brazilwood tree, designating exclusively the name of such profession, since the inhabitants of the land were, in most of them, indigenous, or Portuguese born in Portugal or in the territory now called Brazil.However, long before the independence of Brazil, in 1822, both in Brazil and in Portugal, it was already common to assign the Brazilian gentile to a person, usually of clear Portuguese descent, resident or whose family resided in the State of Brazil (1530–1815), belonging to the Portuguese Empire. During the lifetime of the United Kingdom of Portugal, Brazil and the Algarves (1815–1822), however, there was confusion about the nomenclature.', 'source': 'https://en.wikipedia.org/wiki/Brazilians'}),\n",
       " Document(page_content='The municipalities of Brazil (Portuguese: municípios do Brasil) are administrative divisions of the Brazilian states. Brazil currently has 5,570 municipalities, which, given the 2019 population estimate of 210,147,125, makes an average municipality population of 37,728 inhabitants. The average state in Brazil has 214 municipalities. Roraima is the least subdivided state, with 15 municipalities, while Minas Gerais is the most, with 853. Northern states are divided into small numbers of large municipalities (e.g. Amazonas is divided into only 62 municipalities), and therefore they cover large areas incorporating several separated cities or towns that do not necessarily conform to one single conurbation. Southern and eastern states on the other hand, are divided into many small municipalities (e.g. Minas Gerais is divided into 853 municipalities), and therefore large urban areas usually extend over several municipalities which form one single conurbation.\\nThe Federal District cannot be divided into municipalities, which is why its territory is composed of several administrative regions. These regions are directly managed by the government of the Federal District, which exercises constitutional and legal powers that are equivalent to those of the states, as well as those of the municipalities, thus simultaneously assuming all the obligations arising from them.\\nThe 1988 Brazilian Constitution treats the municipalities as parts of the Federation and not simply dependent subdivisions of the states. Each municipality has an autonomous local government, comprising a mayor (prefeito) and a legislative body called municipal chamber (câmara municipal). Both the local government and the legislative body are directly elected by the population every four years. These elections take place at the same time all over the country; the last municipal elections were held on 15 November 2020. Each municipality has the constitutional power to approve its own laws, as well as collecting taxes and receiving funds from the state and federal governments. However, municipal governments have no judicial power per se, and courts are only organised at the state or federal level. A subdivision of the state judiciary, or comarca, can either correspond to an individual municipality or encompass several municipalities.\\nThe seat of the municipal administration is a nominated city (cidade), with no specification in the law about the minimum population, area or facilities. The city always has the same name as the municipality, as they are not treated as distinct entities. Municipalities can be subdivided, only for administrative purposes, into districts (normally, new municipalities are formed from these districts). Other populated sites are villages, but with no legal effect or regulation. Almost all municipalities are subdivided into neighbourhoods (bairros), although most municipalities do not officially define their neighbourhood limits (usually small cities in the countryside).\\nMunicipalities can be split or merged to form new municipalities within the borders of the state, if the population of the involved municipalities expresses a desire to do so in a plebiscite. However, these must abide by the Brazilian Constitution, and forming exclaves or seceding from the state or union is expressly forbidden.\\n\\n\\n== A ==\\nMunicipalities of Acre (AC)\\nMunicipalities of Alagoas (AL)\\nMunicipalities of Amapá (AP)\\nMunicipalities of Amazonas (AM)\\n\\n\\n== B ==\\nMunicipalities of Bahia (BA)\\n\\n\\n== C ==\\nMunicipalities of Ceará (CE)\\n\\n\\n== E ==\\nMunicipalities of Espírito Santo (ES)\\n\\n\\n== G ==\\nMunicipalities of Goiás (GO)\\n\\n\\n== M ==\\nMunicipalities of Maranhão (MA)\\nMunicipalities of Mato Grosso (MT)\\nMunicipalities of Mato Grosso do Sul (MS)\\nMunicipalities of Minas Gerais (MG)\\n\\n\\n== P ==\\nMunicipalities of Pará (PA)\\nMunicipalities of Paraíba (PB)\\nMunicipalities of Paraná (PR)\\nMunicipalities of Pernambuco (PE)\\nMunicipalities of Piauí (PI)\\n\\n\\n== R ==\\nMunicipalities of Rio de Janeiro (RJ)\\nMunicipalit', metadata={'title': 'Municipalities of Brazil', 'summary': 'The municipalities of Brazil (Portuguese: municípios do Brasil) are administrative divisions of the Brazilian states. Brazil currently has 5,570 municipalities, which, given the 2019 population estimate of 210,147,125, makes an average municipality population of 37,728 inhabitants. The average state in Brazil has 214 municipalities. Roraima is the least subdivided state, with 15 municipalities, while Minas Gerais is the most, with 853. Northern states are divided into small numbers of large municipalities (e.g. Amazonas is divided into only 62 municipalities), and therefore they cover large areas incorporating several separated cities or towns that do not necessarily conform to one single conurbation. Southern and eastern states on the other hand, are divided into many small municipalities (e.g. Minas Gerais is divided into 853 municipalities), and therefore large urban areas usually extend over several municipalities which form one single conurbation.\\nThe Federal District cannot be divided into municipalities, which is why its territory is composed of several administrative regions. These regions are directly managed by the government of the Federal District, which exercises constitutional and legal powers that are equivalent to those of the states, as well as those of the municipalities, thus simultaneously assuming all the obligations arising from them.\\nThe 1988 Brazilian Constitution treats the municipalities as parts of the Federation and not simply dependent subdivisions of the states. Each municipality has an autonomous local government, comprising a mayor (prefeito) and a legislative body called municipal chamber (câmara municipal). Both the local government and the legislative body are directly elected by the population every four years. These elections take place at the same time all over the country; the last municipal elections were held on 15 November 2020. Each municipality has the constitutional power to approve its own laws, as well as collecting taxes and receiving funds from the state and federal governments. However, municipal governments have no judicial power per se, and courts are only organised at the state or federal level. A subdivision of the state judiciary, or comarca, can either correspond to an individual municipality or encompass several municipalities.\\nThe seat of the municipal administration is a nominated city (cidade), with no specification in the law about the minimum population, area or facilities. The city always has the same name as the municipality, as they are not treated as distinct entities. Municipalities can be subdivided, only for administrative purposes, into districts (normally, new municipalities are formed from these districts). Other populated sites are villages, but with no legal effect or regulation. Almost all municipalities are subdivided into neighbourhoods (bairros), although most municipalities do not officially define their neighbourhood limits (usually small cities in the countryside).\\nMunicipalities can be split or merged to form new municipalities within the borders of the state, if the population of the involved municipalities expresses a desire to do so in a plebiscite. However, these must abide by the Brazilian Constitution, and forming exclaves or seceding from the state or union is expressly forbidden.', 'source': 'https://en.wikipedia.org/wiki/Municipalities_of_Brazil'}),\n",
       " Document(page_content='The Brazil nut (Bertholletia excelsa) is a South American tree in the family Lecythidaceae, and it is also the name of the tree\\'s commercially harvested edible seeds. It is one of the largest and longest-lived trees in the Amazon rainforest. The fruit and its nutshell – containing the edible Brazil nut – are relatively large, possibly weighing as much as 2 kg (4.4 lb) in total weight. As food, Brazil nuts are notable for diverse content of micronutrients, especially a high amount of selenium. The wood of the Brazil nut tree is prized for its quality in carpentry, flooring, and heavy construction.\\n\\n\\n== Common names ==\\nIn Portuguese-speaking countries, like Brazil, they are variously called \"castanha-do-brasil\" (meaning \"chestnuts from Brazil\" in Portuguese), \"castanha-do-pará\" (meaning \"chestnuts from Pará\" in Portuguese), with other names: castanha-da-amazônia, castanha-do-acre, \"noz amazônica\" (meaning \"Amazonian nut\" in Portuguese), noz boliviana, tocari (\"probably of Carib origin\"), and tururi (from Tupi turu\\'ri) also used.In various Spanish-speaking countries of South America, Brazil nuts are called castañas de Brasil, nuez de Brasil, or castañas de Pará (or Para).In North America, as early as 1896, Brazil nuts were sometimes known by the slang term \"nigger toes\", a vulgarity that fell out of use after the racial slur became socially unacceptable.\\n\\n\\n== Description ==\\nThe Brazil nut is a large tree, reaching 50 metres (160 feet) tall, and with a trunk 1 to 2 m (3 to 7 ft) in diameter, making it among the largest of trees in the Amazon rainforest. It may live for 500 years or more, and can often reach a thousand years of age. The stem is straight and commonly without branches for well over half the tree\\'s height, with a large, emergent crown of long branches above the surrounding canopy of other trees.\\nThe bark is grayish and smooth. The leaves are dry-season deciduous, alternate, simple, entire or crenate, oblong, 20–35 centimetres (8–14 inches) long, and 10–15 cm (4–6 in) broad. The flowers are small, greenish-white, in panicles 5–10 cm (2–4 in) long; each flower has a two-parted, deciduous calyx, six unequal cream-colored petals, and numerous stamens united into a broad, hood-shaped mass.\\n\\n\\n=== Reproduction ===\\nBrazil nut trees produce fruit almost exclusively in pristine forests, as disturbed forests lack the large-bodied bees of the genera Bombus, Centris, Epicharis, Eulaema, and Xylocopa, which are the only ones capable of pollinating the tree\\'s flowers, with different bee genera being the primary pollinators in different areas, and different times of year. Brazil nuts have been harvested from plantations, but production is low and is currently not economically viable.\\nThe fruit takes 14 months to mature after pollination of the flowers. The fruit itself is a large capsule 10–15 cm (4–6 in) in diameter, resembling a coconut endocarp in size and weighing up to 2 kg (4 lb 7 oz). It has a hard, woody shell 8–12 mm (3⁄8–1⁄2 in) thick, which contains eight to 24 wedge-shaped seeds 4–5 cm (1+5⁄8–2 in) long (the \"Brazil nuts\") packed like the segments of an orange, but not limited to one whorl of segments. Up to three whorls can be stacked onto each other, with the polar ends of the segments of the middle whorl nestling into the upper and lower whorls (see illustration above).\\nThe capsule contains a small hole at one end, which enables large rodents like the agouti to gnaw it open. They then eat some of the seeds inside while burying others for later use; some of these are able to germinate into new Brazil nut trees. Most of the seeds are \"planted\" by the agoutis in caches during wet season, and the young saplings may have to wait years, in a state of dormancy, for a tree to fall and sunlight to reach it, when it starts growing again. Capuchin monkeys have been reported to open Brazil nuts using a stone as an anvil.\\n\\n\\n== Taxonomy ==\\nThe Brazil nut family, the Lecythidaceae, is in the order Ericales, as are other well-known pl', metadata={'title': 'Brazil nut', 'summary': \"The Brazil nut (Bertholletia excelsa) is a South American tree in the family Lecythidaceae, and it is also the name of the tree's commercially harvested edible seeds. It is one of the largest and longest-lived trees in the Amazon rainforest. The fruit and its nutshell – containing the edible Brazil nut – are relatively large, possibly weighing as much as 2 kg (4.4 lb) in total weight. As food, Brazil nuts are notable for diverse content of micronutrients, especially a high amount of selenium. The wood of the Brazil nut tree is prized for its quality in carpentry, flooring, and heavy construction.\", 'source': 'https://en.wikipedia.org/wiki/Brazil_nut'}),\n",
       " Document(page_content=\"The federative units of Brazil (Portuguese: unidades federativas do Brasil) are subnational entities with a certain degree of autonomy (self-government, self-regulation and self-collection) and endowed with their own government and constitution, which together form the Federative Republic of Brazil. There are 26 states (estados) and one federal district (distrito federal). The states are generally based on historical, conventional borders which have developed over time. The states are divided into municipalities, while the Federal District assumes the competences of both a state and a municipality.\\n\\n\\n== Government ==\\nThe government of each state of Brazil is divided into executive, legislative and judiciary branches.\\nThe state executive branch is headed by a state governor and includes a vice governor, both elected by the citizens of the state. The governor appoints several secretaries of state (each one in charge of a given portfolio) and the state attorney-general.The state legislative branch is the legislative assembly, a unicameral body composed of deputies elected by the citizens of the state.The judiciary in each of the states is composed of judges of law, who constitute the courts of first instance, and a Court of Justice, which is the court of second instance of the state and is composed of judges called desembargadores. Judges qualify through exams or are appointed.The states are divided into municipalities, which have different competences and are considered autonomous from the states. Municipalities have a mayor, vice mayor and a chamber of aldermen, all elected by the citizens of the municipality, but do not have a separate judiciary.The Federal District has the same executive, legislative and judiciary organization as a state, but it cannot be divided into municipalities, which is why its territory is composed of several administrative regions. These regions are directly managed by the government of the Federal District, which exercises constitutional and legal powers that are equivalent to those of the states, as well as those of the municipalities, thus simultaneously assuming all the obligations arising from them.Fernando de Noronha is not a municipality, but a state district of Pernambuco (the only state district in the country). It is governed by an administrator-general, appointed by the governor of Pernambuco, and a council whose members are elected by the citizens of the district.All states and the Federal District are represented in the national congress, each with three senators and between eight and 70 deputies, depending on their population. The citizens of all states and the Federal District vote for these national representatives and for president and vice president.\\n\\n\\n== History ==\\n\\nThe present states of Brazil trace their history directly to the captaincies established by Portugal following the Treaty of Tordesillas which divided the World between Portugal and Spain.\\nThe first administrative divisions of Brazil were the hereditary captaincies (capitanias hereditárias), stretches of land granted by the Portuguese Crown to noblemen or merchants with a charter to colonize the land. The first such captaincy was the island of São João, granted in 1504 to Fernão de Loronha. The continental land was divided into captaincies in 1534, generally following lines of latitude, although some followed meridians or diagonal lines. Each of the holders of these captaincies was referred to as a captain donatary (capitão donatário). The captaincies were to be inherited by the holders' descendants, but the Crown retained the power to reacquire them.\\nIn 1549, the Portuguese Crown appointed Tomé de Sousa as the first governor-general of the vast Portuguese dominion in South America, known as the State of Brazil (Estado do Brasil). In 1621, the northern part of the dominion was detached, becoming a separate entity known as the State of Maranhão. However, captaincies continued existing under both states as regional adminis\", metadata={'title': 'Federative units of Brazil', 'summary': 'The federative units of Brazil (Portuguese: unidades federativas do Brasil) are subnational entities with a certain degree of autonomy (self-government, self-regulation and self-collection) and endowed with their own government and constitution, which together form the Federative Republic of Brazil. There are 26 states (estados) and one federal district (distrito federal). The states are generally based on historical, conventional borders which have developed over time. The states are divided into municipalities, while the Federal District assumes the competences of both a state and a municipality.', 'source': 'https://en.wikipedia.org/wiki/Federative_units_of_Brazil'}),\n",
       " Document(page_content=\"Brazil has a high level of urbanization with 87.8% of the population residing in urban and metropolitan areas. The criteria used by the IBGE (Brazilian Institute of Geography and Statistics) in determining whether households are urban or rural, however, are based on political divisions, not on the developed environment.\\nNowadays, the country has 5,570 cities, with 5,568 municipalities plus the capital (Brasília) and the Island of Fernando de Noronha.With two exceptions, the state capitals are all the largest cities in their respective states: Florianópolis, the capital of Santa Catarina is its second-largest city after Joinville, while Vitória is only the fourth-largest city in Espírito Santo, although it is located in that state's largest metropolitan area.\\n\\n\\n== Most populous cities in Brazil ==\\nThis is a list of the most populous cities based on the population of the municipality where the city is located, rather than its metropolitan area. As IBGE considers the entire Federal District synonymous to Brasília, the population of the Federal District is shown for Brasília.\\n\\n2010 IBGE Census counts as of 1 August 2010. 2022 IBGE CensusState capitals are in bold and states' largest cities are in italics.Brazil's population, as recorded by the 2010 census, was of 190,755,799 inhabitants (22.40 inhabitants per square kilometer), with 84.36% of the population defined as urban. The population is heavily concentrated in the Southeast (80.4 million) and Northeast (53.1 million).\\n\\n\\n=== Distribution ===\\n\\n\\n== Largest metropolitan areas ==\\n\\n\\n== See also ==\\nMunicipalities of Brazil\\nList of municipalities of Brazil\\nList of largest cities in Brazil by state\\nList of metropolitan areas in the Americas\\nLargest cities in the Americas\\nBrazilian Institute of Geography and Statistics\\n\\n\\n== References ==\", metadata={'title': 'List of cities in Brazil by population', 'summary': \"Brazil has a high level of urbanization with 87.8% of the population residing in urban and metropolitan areas. The criteria used by the IBGE (Brazilian Institute of Geography and Statistics) in determining whether households are urban or rural, however, are based on political divisions, not on the developed environment.\\nNowadays, the country has 5,570 cities, with 5,568 municipalities plus the capital (Brasília) and the Island of Fernando de Noronha.With two exceptions, the state capitals are all the largest cities in their respective states: Florianópolis, the capital of Santa Catarina is its second-largest city after Joinville, while Vitória is only the fourth-largest city in Espírito Santo, although it is located in that state's largest metropolitan area.\", 'source': 'https://en.wikipedia.org/wiki/List_of_cities_in_Brazil_by_population'}),\n",
       " Document(page_content='The Brazilian real (pl. reais;  sign: R$; code: BRL) is the official currency of Brazil. It is subdivided into 100 centavos. The Central Bank of Brazil is the central bank and the issuing authority. The real replaced the cruzeiro real in 1994.\\nAs of April 2019, the real was the twentieth most traded currency.\\n\\n\\n== History ==\\nCurrencies in use before the current real include:\\n\\nThe Portuguese real from the 16th to 18th centuries, with 1,000 réis called the milréis.\\nThe old Brazilian real from 1747 to 1942, with 1,000 réis also called the milréis.\\nThe first cruzeiro from 1942 to 1967, at 1 cruzeiro = 1 milréis or 1,000 réis.\\nThe cruzeiro novo from 1967 to 1970, at 1 cruzeiro novo = 1,000 first cruzeiros. From 1970 it was simply called the (second) cruzeiro and was used until 1986.\\nThe cruzado from 1986 to 1989, at 1 cruzado = 1,000 second cruzeiros.\\nThe cruzado novo from 1989 to 1990, at 1 cruzado novo = 1,000 cruzados. From 1990, because of the Plano Collor it was renamed the (third) cruzeiro and was used until 1993.\\nThe cruzeiro real (CR$) from 1993 to 1994, at 1 cruzeiro real = 1,000 third cruzeiros.The current real was introduced in 1994 at 1 real = 2,750 cruzeiros reais.\\nThe modern real (Portuguese plural reais or English plural reals) was introduced on 1 July 1994, during the presidency of Itamar Franco, when Rubens Ricupero was the Minister of Finance as part of a broader plan to stabilize the Brazilian economy, known as the Plano Real. The new currency replaced the short-lived cruzeiro real (CR$). The reform included the demonetisation of the cruzeiro real and required a massive banknote replacement.\\nAt its introduction, the real was defined to be equal to 1 unidade real de valor (URV, \"real value unit\") a non-circulating currency unit. At the same time the URV was defined to be worth 2,750 cruzeiros reais, which was the average exchange rate of the U.S. dollar to the cruzeiro real on that day. As a consequence, the real was worth exactly one U.S. dollar as it was introduced. Combined with all previous currency changes in the country\\'s history, this reform made the new real equal to 2.75 × 1018 (2.75 quintillion) of Brazil\\'s original réis.\\nSoon after its introduction, the real unexpectedly gained value against the U.S. dollar, due to large capital inflows in late 1994 and 1995. During that period it attained its maximum dollar value ever, about US$1.20=R$1. Between 1996 and 1998 the exchange rate was tightly controlled by the Central Bank of Brazil, so that the real depreciated slowly and smoothly in relation to the dollar, dropping from near US$1=R$1 to about US$1=R$1.2 by the end of 1998. In January 1999 the deterioration of the international markets, disrupted by the Russian default, forced the Central Bank, under its new president Arminio Fraga, to float the exchange rate. This decision produced a major devaluation, to a rate of almost US$1=R$2.In the following years, the currency\\'s value against the dollar followed an erratic but mostly downwards path from 1999 until late 2002, when the prospect of the election of leftist candidate Luiz Inácio Lula da Silva, considered a radical populist by sectors of the financial markets, prompted another currency crisis and a spike in inflation.  Many Brazilians feared another default on government debts or a resumption of heterodox economic policies, and rushed to exchange their reais into tangible assets or foreign currencies.\\nThe crisis subsided once Lula took office, after he, his finance minister Antonio Palocci, and Arminio Fraga reaffirmed their intention to continue the orthodox macroeconomic policies of his predecessor (including inflation-targeting, primary fiscal surplus and floating exchange rate, as well as continued payments of the public debt). The value of the real in dollars continued to fluctuate but generally upwards, so that by 2005 the exchange was a little over US$1=R$2. In May 2007, for the first time since 2001 (six years), the real became worth more than U', metadata={'title': 'Brazilian real', 'summary': 'The Brazilian real (pl. reais;  sign: R$; code: BRL) is the official currency of Brazil. It is subdivided into 100 centavos. The Central Bank of Brazil is the central bank and the issuing authority. The real replaced the cruzeiro real in 1994.\\nAs of April 2019, the real was the twentieth most traded currency.', 'source': 'https://en.wikipedia.org/wiki/Brazilian_real'}),\n",
       " Document(page_content='Rio de Janeiro (Brazilian Portuguese: [ˈʁi.u d(ʒi) ʒɐˈne(j)ɾu] ; literally \\'River of January\\'), or simply Rio, is the capital of the state of Rio de Janeiro. Rio de Janeiro is the second-most-populous city in Brazil (after São Paulo) and the sixth-most-populous city in the Americas. Notably, it is listed by the GaWC as a beta global city and part of Rio de Janeiro is designated as a World Heritage Site.Founded in 1565 by the Portuguese, the city was initially the seat of the Captaincy of Rio de Janeiro, a domain of the Portuguese Empire. In 1763, it became the capital of the State of Brazil, a state of the Portuguese Empire. In 1808, when the Portuguese Royal Court moved to Brazil, Rio de Janeiro became the seat of the court of Queen Maria I of Portugal. She subsequently, under the leadership of her son the prince regent John VI of Portugal, raised Brazil to the dignity of a kingdom, within the United Kingdom of Portugal, Brazil, and Algarves. Rio remained as the capital of the pluricontinental monarchy until 1822, when the Brazilian War of Independence began. This is one of the few instances in history that the capital of a colonizing country officially shifted to a city in one of its colonies. Rio de Janeiro subsequently served as the capital of the independent monarchy, the Empire of Brazil, until 1889, and then the capital of a republican Brazil until 1960 when the capital was transferred to Brasília.\\nRio de Janeiro has the second largest municipal GDP in the country, and 30th-largest in the world in 2008. This is estimated at R$343 billion. In the city are the headquarters of Brazilian oil, mining, and telecommunications companies, including two of the country\\'s major corporations, Petrobras and Vale, and Latin America\\'s largest telemedia conglomerate, Grupo Globo. The home of many universities and institutes, it is the second-largest center of research and development in Brazil, accounting for 17 percent of national scientific output according to 2005 data. Despite the high perception of crime, the city actually has a lower incidence of crime than most state capitals in Brazil.Rio de Janeiro is one of the most visited cities in the Southern Hemisphere and is known for its natural settings, carnival, samba, bossa nova, and balneario beaches such as Barra da Tijuca, Copacabana, Ipanema, and Leblon. In addition to the beaches, some of the most famous landmarks include the giant statue of Christ the Redeemer atop Corcovado mountain, named one of the New Seven Wonders of the World; Sugarloaf Mountain with its cable car; the Sambódromo (Sambadrome), a permanent grandstand-lined parade avenue which is used during Carnival; and Maracanã Stadium, one of the world\\'s largest football stadiums. Rio de Janeiro was the host of the 2016 Summer Olympics and the 2016 Summer Paralympics, making the city the first South American and Portuguese-speaking city to ever host the events, and the third time the Olympics were held in a Southern Hemisphere city. The Maracanã Stadium held the finals of the 1950 and 2014 FIFA World Cups, the 2013 FIFA Confederations Cup, and the XV Pan American Games. In 2024, the city will host the G20 summit.\\n\\n\\n== History ==\\n\\n\\n=== Pre-Colonial period ===\\nThe region of Rio was inhabited by the Tupi, Puri, Botocudo and Maxakalí peoples.\\n\\n\\n=== Colonial period ===\\nEuropeans first encountered Guanabara Bay on 1 January 1502 (hence Rio de Janeiro, \"January River\"), during a Portuguese expedition under explorer Gaspar de Lemos, captain of a ship in Pedro Álvares Cabral\\'s fleet, or under Gonçalo Coelho. Allegedly the Florentine explorer Amerigo Vespucci participated as observer at the invitation of King Manuel I in the same expedition.\\nIn 1555, one of the islands of Guanabara Bay, now called Villegagnon Island, was occupied by 500 French colonists under the French admiral Nicolas Durand de Villegaignon. Consequently, Villegagnon built Fort Coligny on the island when attempting to establish the France Antarctique colony. Ev', metadata={'title': 'Rio de Janeiro', 'summary': \"Rio de Janeiro (Brazilian Portuguese: [ˈʁi.u d(ʒi) ʒɐˈne(j)ɾu] ; literally 'River of January'), or simply Rio, is the capital of the state of Rio de Janeiro. Rio de Janeiro is the second-most-populous city in Brazil (after São Paulo) and the sixth-most-populous city in the Americas. Notably, it is listed by the GaWC as a beta global city and part of Rio de Janeiro is designated as a World Heritage Site.Founded in 1565 by the Portuguese, the city was initially the seat of the Captaincy of Rio de Janeiro, a domain of the Portuguese Empire. In 1763, it became the capital of the State of Brazil, a state of the Portuguese Empire. In 1808, when the Portuguese Royal Court moved to Brazil, Rio de Janeiro became the seat of the court of Queen Maria I of Portugal. She subsequently, under the leadership of her son the prince regent John VI of Portugal, raised Brazil to the dignity of a kingdom, within the United Kingdom of Portugal, Brazil, and Algarves. Rio remained as the capital of the pluricontinental monarchy until 1822, when the Brazilian War of Independence began. This is one of the few instances in history that the capital of a colonizing country officially shifted to a city in one of its colonies. Rio de Janeiro subsequently served as the capital of the independent monarchy, the Empire of Brazil, until 1889, and then the capital of a republican Brazil until 1960 when the capital was transferred to Brasília.\\nRio de Janeiro has the second largest municipal GDP in the country, and 30th-largest in the world in 2008. This is estimated at R$343 billion. In the city are the headquarters of Brazilian oil, mining, and telecommunications companies, including two of the country's major corporations, Petrobras and Vale, and Latin America's largest telemedia conglomerate, Grupo Globo. The home of many universities and institutes, it is the second-largest center of research and development in Brazil, accounting for 17 percent of national scientific output according to 2005 data. Despite the high perception of crime, the city actually has a lower incidence of crime than most state capitals in Brazil.Rio de Janeiro is one of the most visited cities in the Southern Hemisphere and is known for its natural settings, carnival, samba, bossa nova, and balneario beaches such as Barra da Tijuca, Copacabana, Ipanema, and Leblon. In addition to the beaches, some of the most famous landmarks include the giant statue of Christ the Redeemer atop Corcovado mountain, named one of the New Seven Wonders of the World; Sugarloaf Mountain with its cable car; the Sambódromo (Sambadrome), a permanent grandstand-lined parade avenue which is used during Carnival; and Maracanã Stadium, one of the world's largest football stadiums. Rio de Janeiro was the host of the 2016 Summer Olympics and the 2016 Summer Paralympics, making the city the first South American and Portuguese-speaking city to ever host the events, and the third time the Olympics were held in a Southern Hemisphere city. The Maracanã Stadium held the finals of the 1950 and 2014 FIFA World Cups, the 2013 FIFA Confederations Cup, and the XV Pan American Games. In 2024, the city will host the G20 summit.\", 'source': 'https://en.wikipedia.org/wiki/Rio_de_Janeiro'})]"
      ]
     },
     "execution_count": 4,
     "metadata": {},
     "output_type": "execute_result"
    }
   ],
   "source": [
    "docs"
   ]
  },
  {
   "cell_type": "code",
   "execution_count": 5,
   "metadata": {},
   "outputs": [],
   "source": [
    "from langchain.prompts import (\n",
    "    ChatPromptTemplate,\n",
    "    HumanMessagePromptTemplate\n",
    ")\n",
    "from langchain.chat_models import ChatLiteLLM\n",
    "from dotenv import load_dotenv\n",
    "load_dotenv()\n",
    "\n",
    "model = ChatLiteLLM(model=\"huggingface/codellama/CodeLlama-34b-Instruct-hf\")"
   ]
  },
  {
   "cell_type": "code",
   "execution_count": 6,
   "metadata": {},
   "outputs": [
    {
     "name": "stderr",
     "output_type": "stream",
     "text": [
      "d:\\Python\\Python310\\envd\\lib\\site-packages\\langchain_core\\_api\\deprecation.py:115: LangChainDeprecationWarning: The function `__call__` was deprecated in LangChain 0.1.7 and will be removed in 0.2.0. Use invoke instead.\n",
      "  warn_deprecated(\n"
     ]
    }
   ],
   "source": [
    "hp = HumanMessagePromptTemplate.from_template(\"Summarize the document in one sentence:\\n {doc}\")\n",
    "prompt = ChatPromptTemplate.from_messages([hp])\n",
    "result = model(prompt.format_prompt(doc=docs[0].page_content).to_messages())"
   ]
  },
  {
   "cell_type": "code",
   "execution_count": 7,
   "metadata": {},
   "outputs": [
    {
     "data": {
      "text/plain": [
       "AIMessage(content=\"Brazil, officially the Federative Republic of Brazil, is a country in South America and in Latin America. Brazil is the world's largest country, has the most populous city, and is the largest producer of coffee in the world; it is one of the world's largest economies and is an upper-middle class emerging power that is an emerging power and a major non-NATO ally of the United States.\")"
      ]
     },
     "execution_count": 7,
     "metadata": {},
     "output_type": "execute_result"
    }
   ],
   "source": [
    "result"
   ]
  },
  {
   "cell_type": "code",
   "execution_count": 8,
   "metadata": {},
   "outputs": [
    {
     "data": {
      "text/plain": [
       "'Brazil (Portuguese: Brasil; Brazilian Portuguese: [bɾaˈziw] ), officially the Federative Republic of Brazil (Portuguese: ), is the largest country in South America and in Latin America. Brazil is the world\\'s fifth-largest country by area and the seventh most populous. Its capital is Brasília, and its most populous city is São Paulo. The federation is composed of the union of the 26 states and the Federal District. It is the only country in the Americas to have Portuguese as an official language. It is one of the most multicultural and ethnically diverse nations, due to over a century of mass immigration from around the world, and the most populous Roman Catholic-majority country.\\nBounded by the Atlantic Ocean on the east, Brazil has a coastline of 7,491 kilometers (4,655 mi). It borders all other countries and territories in South America except Ecuador and Chile and covers roughly half of the continent\\'s land area. Its Amazon basin includes a vast tropical forest, home to diverse wildlife, a variety of ecological systems, and extensive natural resources spanning numerous protected habitats. This unique environmental heritage positions Brazil at number one of 17 megadiverse countries, and is the subject of significant global interest, as environmental degradation through processes like deforestation has direct impacts on global issues like climate change and biodiversity loss.\\nThe territory which would become known as Brazil was inhabited by numerous tribal nations prior to the landing in 1500 of explorer Pedro Álvares Cabral, who claimed the discovered land for the Portuguese Empire. Brazil remained a Portuguese colony until 1808 when the capital of the empire was transferred from Lisbon to Rio de Janeiro. In 1815, the colony was elevated to the rank of kingdom upon the formation of the United Kingdom of Portugal, Brazil and the Algarves. Independence was achieved in 1822 with the creation of the Empire of Brazil, a unitary state governed under a constitutional monarchy and a parliamentary system. The ratification of the first constitution in 1824 led to the formation of a bicameral legislature, now called the National Congress. Slavery was abolished in 1888. The country became a presidential republic in 1889 following a military coup d\\'état. An authoritarian military dictatorship emerged in 1964 and ruled until 1985, after which civilian governance resumed. Brazil\\'s current constitution, formulated in 1988, defines it as a democratic federal republic. Due to its rich culture and history, the country ranks thirteenth in the world by number of UNESCO World Heritage Sites.Brazil is a regional and middle power that is an emerging power and a major non-NATO ally of the United States. Categorised as a developing country with a high Human Development Index, Brazil is considered an advanced emerging economy, having the ninth largest GDP in the world by nominal, and eighth by PPP measures, the largest in Latin America. As an upper-middle income economy by the World Bank and a newly industrialized country, Brazil has the largest share of global wealth in South America and it is one of the world\\'s major breadbaskets, being the largest producer of coffee for the last 150 years. However, the country retains noticeable corruption, crime and social inequality. Brazil is a founding member of the United Nations, the G20, BRICS, G4, Mercosul, Organization of American States, Organization of Ibero-American States and the Community of Portuguese Language Countries. Brazil is also an Observer State of the Arab League.\\n\\n\\n== Etymology ==\\n\\nThe word \"Brazil\" likely comes from the Portuguese word for brazilwood, a tree that once grew plentifully along the Brazilian coast. In Portuguese, brazilwood is called pau-brasil, with the word brasil commonly given the etymology \"red like an ember\", formed from brasa (\"ember\") and the suffix -il (from -iculum or -ilium). As brazilwood produces a deep red dye, it was highly valued by the European textile industr'"
      ]
     },
     "execution_count": 8,
     "metadata": {},
     "output_type": "execute_result"
    }
   ],
   "source": [
    "docs[0].page_content"
   ]
  },
  {
   "cell_type": "code",
   "execution_count": 9,
   "metadata": {},
   "outputs": [
    {
     "name": "stderr",
     "output_type": "stream",
     "text": [
      "Created a chunk of size 702, which is longer than the specified 100\n"
     ]
    }
   ],
   "source": [
    "from langchain.text_splitter import CharacterTextSplitter\n",
    "\n",
    "text_splitter = CharacterTextSplitter.from_tiktoken_encoder(\n",
    "    chunk_size = 100, chunk_overlap = 0\n",
    ")\n",
    "texts = text_splitter.split_text(docs[0].page_content)"
   ]
  },
  {
   "cell_type": "code",
   "execution_count": 10,
   "metadata": {},
   "outputs": [
    {
     "data": {
      "text/plain": [
       "[\"Brazil (Portuguese: Brasil; Brazilian Portuguese: [bɾaˈziw] ), officially the Federative Republic of Brazil (Portuguese: ), is the largest country in South America and in Latin America. Brazil is the world's fifth-largest country by area and the seventh most populous. Its capital is Brasília, and its most populous city is São Paulo. The federation is composed of the union of the 26 states and the Federal District. It is the only country in the Americas to have Portuguese as an official language. It is one of the most multicultural and ethnically diverse nations, due to over a century of mass immigration from around the world, and the most populous Roman Catholic-majority country.\\nBounded by the Atlantic Ocean on the east, Brazil has a coastline of 7,491 kilometers (4,655 mi). It borders all other countries and territories in South America except Ecuador and Chile and covers roughly half of the continent's land area. Its Amazon basin includes a vast tropical forest, home to diverse wildlife, a variety of ecological systems, and extensive natural resources spanning numerous protected habitats. This unique environmental heritage positions Brazil at number one of 17 megadiverse countries, and is the subject of significant global interest, as environmental degradation through processes like deforestation has direct impacts on global issues like climate change and biodiversity loss.\\nThe territory which would become known as Brazil was inhabited by numerous tribal nations prior to the landing in 1500 of explorer Pedro Álvares Cabral, who claimed the discovered land for the Portuguese Empire. Brazil remained a Portuguese colony until 1808 when the capital of the empire was transferred from Lisbon to Rio de Janeiro. In 1815, the colony was elevated to the rank of kingdom upon the formation of the United Kingdom of Portugal, Brazil and the Algarves. Independence was achieved in 1822 with the creation of the Empire of Brazil, a unitary state governed under a constitutional monarchy and a parliamentary system. The ratification of the first constitution in 1824 led to the formation of a bicameral legislature, now called the National Congress. Slavery was abolished in 1888. The country became a presidential republic in 1889 following a military coup d'état. An authoritarian military dictatorship emerged in 1964 and ruled until 1985, after which civilian governance resumed. Brazil's current constitution, formulated in 1988, defines it as a democratic federal republic. Due to its rich culture and history, the country ranks thirteenth in the world by number of UNESCO World Heritage Sites.Brazil is a regional and middle power that is an emerging power and a major non-NATO ally of the United States. Categorised as a developing country with a high Human Development Index, Brazil is considered an advanced emerging economy, having the ninth largest GDP in the world by nominal, and eighth by PPP measures, the largest in Latin America. As an upper-middle income economy by the World Bank and a newly industrialized country, Brazil has the largest share of global wealth in South America and it is one of the world's major breadbaskets, being the largest producer of coffee for the last 150 years. However, the country retains noticeable corruption, crime and social inequality. Brazil is a founding member of the United Nations, the G20, BRICS, G4, Mercosul, Organization of American States, Organization of Ibero-American States and the Community of Portuguese Language Countries. Brazil is also an Observer State of the Arab League.\",\n",
       " '== Etymology ==',\n",
       " 'The word \"Brazil\" likely comes from the Portuguese word for brazilwood, a tree that once grew plentifully along the Brazilian coast. In Portuguese, brazilwood is called pau-brasil, with the word brasil commonly given the etymology \"red like an ember\", formed from brasa (\"ember\") and the suffix -il (from -iculum or -ilium). As brazilwood produces a deep red dye, it was highly valued by the European textile industr']"
      ]
     },
     "execution_count": 10,
     "metadata": {},
     "output_type": "execute_result"
    }
   ],
   "source": [
    "texts"
   ]
  },
  {
   "cell_type": "code",
   "execution_count": 11,
   "metadata": {},
   "outputs": [],
   "source": [
    "from langchain.embeddings import HuggingFaceInstructEmbeddings"
   ]
  },
  {
   "cell_type": "code",
   "execution_count": 12,
   "metadata": {},
   "outputs": [
    {
     "name": "stderr",
     "output_type": "stream",
     "text": [
      "d:\\Python\\Python310\\envd\\lib\\site-packages\\InstructorEmbedding\\instructor.py:7: TqdmWarning: IProgress not found. Please update jupyter and ipywidgets. See https://ipywidgets.readthedocs.io/en/stable/user_install.html\n",
      "  from tqdm.autonotebook import trange\n"
     ]
    },
    {
     "name": "stdout",
     "output_type": "stream",
     "text": [
      "load INSTRUCTOR_Transformer\n",
      "max_seq_length  512\n"
     ]
    }
   ],
   "source": [
    "embeddings_model = HuggingFaceInstructEmbeddings(model_name = \"hkunlp/instructor-xl\")"
   ]
  },
  {
   "cell_type": "code",
   "execution_count": 13,
   "metadata": {},
   "outputs": [],
   "source": [
    "embeddings = embeddings_model.embed_documents(texts)"
   ]
  },
  {
   "cell_type": "code",
   "execution_count": 14,
   "metadata": {},
   "outputs": [],
   "source": [
    "from langchain.vectorstores import FAISS"
   ]
  },
  {
   "cell_type": "code",
   "execution_count": 15,
   "metadata": {},
   "outputs": [],
   "source": [
    "vectorstore = FAISS.from_texts(texts=texts, embedding=embeddings_model)"
   ]
  },
  {
   "cell_type": "code",
   "execution_count": 16,
   "metadata": {},
   "outputs": [
    {
     "data": {
      "text/plain": [
       "[Document(page_content='The word \"Brazil\" likely comes from the Portuguese word for brazilwood, a tree that once grew plentifully along the Brazilian coast. In Portuguese, brazilwood is called pau-brasil, with the word brasil commonly given the etymology \"red like an ember\", formed from brasa (\"ember\") and the suffix -il (from -iculum or -ilium). As brazilwood produces a deep red dye, it was highly valued by the European textile industr'),\n",
       " Document(page_content=\"Brazil (Portuguese: Brasil; Brazilian Portuguese: [bɾaˈziw] ), officially the Federative Republic of Brazil (Portuguese: ), is the largest country in South America and in Latin America. Brazil is the world's fifth-largest country by area and the seventh most populous. Its capital is Brasília, and its most populous city is São Paulo. The federation is composed of the union of the 26 states and the Federal District. It is the only country in the Americas to have Portuguese as an official language. It is one of the most multicultural and ethnically diverse nations, due to over a century of mass immigration from around the world, and the most populous Roman Catholic-majority country.\\nBounded by the Atlantic Ocean on the east, Brazil has a coastline of 7,491 kilometers (4,655 mi). It borders all other countries and territories in South America except Ecuador and Chile and covers roughly half of the continent's land area. Its Amazon basin includes a vast tropical forest, home to diverse wildlife, a variety of ecological systems, and extensive natural resources spanning numerous protected habitats. This unique environmental heritage positions Brazil at number one of 17 megadiverse countries, and is the subject of significant global interest, as environmental degradation through processes like deforestation has direct impacts on global issues like climate change and biodiversity loss.\\nThe territory which would become known as Brazil was inhabited by numerous tribal nations prior to the landing in 1500 of explorer Pedro Álvares Cabral, who claimed the discovered land for the Portuguese Empire. Brazil remained a Portuguese colony until 1808 when the capital of the empire was transferred from Lisbon to Rio de Janeiro. In 1815, the colony was elevated to the rank of kingdom upon the formation of the United Kingdom of Portugal, Brazil and the Algarves. Independence was achieved in 1822 with the creation of the Empire of Brazil, a unitary state governed under a constitutional monarchy and a parliamentary system. The ratification of the first constitution in 1824 led to the formation of a bicameral legislature, now called the National Congress. Slavery was abolished in 1888. The country became a presidential republic in 1889 following a military coup d'état. An authoritarian military dictatorship emerged in 1964 and ruled until 1985, after which civilian governance resumed. Brazil's current constitution, formulated in 1988, defines it as a democratic federal republic. Due to its rich culture and history, the country ranks thirteenth in the world by number of UNESCO World Heritage Sites.Brazil is a regional and middle power that is an emerging power and a major non-NATO ally of the United States. Categorised as a developing country with a high Human Development Index, Brazil is considered an advanced emerging economy, having the ninth largest GDP in the world by nominal, and eighth by PPP measures, the largest in Latin America. As an upper-middle income economy by the World Bank and a newly industrialized country, Brazil has the largest share of global wealth in South America and it is one of the world's major breadbaskets, being the largest producer of coffee for the last 150 years. However, the country retains noticeable corruption, crime and social inequality. Brazil is a founding member of the United Nations, the G20, BRICS, G4, Mercosul, Organization of American States, Organization of Ibero-American States and the Community of Portuguese Language Countries. Brazil is also an Observer State of the Arab League.\"),\n",
       " Document(page_content='== Etymology ==')]"
      ]
     },
     "execution_count": 16,
     "metadata": {},
     "output_type": "execute_result"
    }
   ],
   "source": [
    "vectorstore.similarity_search(\"Where the word Brazil comes from?\")"
   ]
  },
  {
   "cell_type": "code",
   "execution_count": 17,
   "metadata": {},
   "outputs": [],
   "source": [
    "retriever = vectorstore.as_retriever()"
   ]
  },
  {
   "cell_type": "code",
   "execution_count": 18,
   "metadata": {},
   "outputs": [],
   "source": [
    "sk = {\"score_threshold\": 0.9, \"k\":1}"
   ]
  },
  {
   "cell_type": "code",
   "execution_count": 19,
   "metadata": {},
   "outputs": [],
   "source": [
    "result_docs = retriever.get_relevant_documents(\"Which are the brazilian most populous city?\",search_kwargs = sk)"
   ]
  },
  {
   "cell_type": "code",
   "execution_count": 20,
   "metadata": {},
   "outputs": [],
   "source": [
    "def print_docs(docs):\n",
    "    print(f\"\\n{'-' * 200}\\n\".join([f\"Documento - {i+1}:\\n\" + j.page_content for i, j in enumerate(docs)]))"
   ]
  },
  {
   "cell_type": "code",
   "execution_count": 21,
   "metadata": {},
   "outputs": [
    {
     "name": "stdout",
     "output_type": "stream",
     "text": [
      "Documento - 1:\n",
      "Brazil (Portuguese: Brasil; Brazilian Portuguese: [bɾaˈziw] ), officially the Federative Republic of Brazil (Portuguese: ), is the largest country in South America and in Latin America. Brazil is the world's fifth-largest country by area and the seventh most populous. Its capital is Brasília, and its most populous city is São Paulo. The federation is composed of the union of the 26 states and the Federal District. It is the only country in the Americas to have Portuguese as an official language. It is one of the most multicultural and ethnically diverse nations, due to over a century of mass immigration from around the world, and the most populous Roman Catholic-majority country.\n",
      "Bounded by the Atlantic Ocean on the east, Brazil has a coastline of 7,491 kilometers (4,655 mi). It borders all other countries and territories in South America except Ecuador and Chile and covers roughly half of the continent's land area. Its Amazon basin includes a vast tropical forest, home to diverse wildlife, a variety of ecological systems, and extensive natural resources spanning numerous protected habitats. This unique environmental heritage positions Brazil at number one of 17 megadiverse countries, and is the subject of significant global interest, as environmental degradation through processes like deforestation has direct impacts on global issues like climate change and biodiversity loss.\n",
      "The territory which would become known as Brazil was inhabited by numerous tribal nations prior to the landing in 1500 of explorer Pedro Álvares Cabral, who claimed the discovered land for the Portuguese Empire. Brazil remained a Portuguese colony until 1808 when the capital of the empire was transferred from Lisbon to Rio de Janeiro. In 1815, the colony was elevated to the rank of kingdom upon the formation of the United Kingdom of Portugal, Brazil and the Algarves. Independence was achieved in 1822 with the creation of the Empire of Brazil, a unitary state governed under a constitutional monarchy and a parliamentary system. The ratification of the first constitution in 1824 led to the formation of a bicameral legislature, now called the National Congress. Slavery was abolished in 1888. The country became a presidential republic in 1889 following a military coup d'état. An authoritarian military dictatorship emerged in 1964 and ruled until 1985, after which civilian governance resumed. Brazil's current constitution, formulated in 1988, defines it as a democratic federal republic. Due to its rich culture and history, the country ranks thirteenth in the world by number of UNESCO World Heritage Sites.Brazil is a regional and middle power that is an emerging power and a major non-NATO ally of the United States. Categorised as a developing country with a high Human Development Index, Brazil is considered an advanced emerging economy, having the ninth largest GDP in the world by nominal, and eighth by PPP measures, the largest in Latin America. As an upper-middle income economy by the World Bank and a newly industrialized country, Brazil has the largest share of global wealth in South America and it is one of the world's major breadbaskets, being the largest producer of coffee for the last 150 years. However, the country retains noticeable corruption, crime and social inequality. Brazil is a founding member of the United Nations, the G20, BRICS, G4, Mercosul, Organization of American States, Organization of Ibero-American States and the Community of Portuguese Language Countries. Brazil is also an Observer State of the Arab League.\n",
      "--------------------------------------------------------------------------------------------------------------------------------------------------------------------------------------------------------\n",
      "Documento - 2:\n",
      "The word \"Brazil\" likely comes from the Portuguese word for brazilwood, a tree that once grew plentifully along the Brazilian coast. In Portuguese, brazilwood is called pau-brasil, with the word brasil commonly given the etymology \"red like an ember\", formed from brasa (\"ember\") and the suffix -il (from -iculum or -ilium). As brazilwood produces a deep red dye, it was highly valued by the European textile industr\n",
      "--------------------------------------------------------------------------------------------------------------------------------------------------------------------------------------------------------\n",
      "Documento - 3:\n",
      "== Etymology ==\n"
     ]
    }
   ],
   "source": [
    "print_docs(result_docs)"
   ]
  },
  {
   "cell_type": "code",
   "execution_count": 22,
   "metadata": {},
   "outputs": [
    {
     "name": "stderr",
     "output_type": "stream",
     "text": [
      "d:\\Python\\Python310\\envd\\lib\\site-packages\\langchain\\chains\\llm.py:316: UserWarning: The predict_and_parse method is deprecated, instead pass an output parser directly to LLMChain.\n",
      "  warnings.warn(\n",
      "d:\\Python\\Python310\\envd\\lib\\site-packages\\langchain\\chains\\llm.py:316: UserWarning: The predict_and_parse method is deprecated, instead pass an output parser directly to LLMChain.\n",
      "  warnings.warn(\n",
      "d:\\Python\\Python310\\envd\\lib\\site-packages\\langchain\\chains\\llm.py:316: UserWarning: The predict_and_parse method is deprecated, instead pass an output parser directly to LLMChain.\n",
      "  warnings.warn(\n"
     ]
    },
    {
     "name": "stdout",
     "output_type": "stream",
     "text": [
      "Documento - 1:\n",
      "Its capital is Braslia, and its most populous city is So Paulo.\n"
     ]
    }
   ],
   "source": [
    "from langchain.llms import HuggingFaceHub\n",
    "from langchain.retrievers import ContextualCompressionRetriever\n",
    "from langchain.retrievers.document_compressors import LLMChainExtractor\n",
    "\n",
    "llm = HuggingFaceHub(repo_id = \"google/flan-t5-xxl\", model_kwargs = {\"temperature\": 0.5, \"max_length\": 512})\n",
    "\n",
    "compressor = LLMChainExtractor.from_llm(llm)\n",
    "compressor_retriever = ContextualCompressionRetriever(base_compressor=compressor, base_retriever=retriever)\n",
    "\n",
    "docs_comp = compressor_retriever.get_relevant_documents(\"Which are the brazilian most populous city?\")\n",
    "print_docs(docs_comp)"
   ]
  },
  {
   "cell_type": "code",
   "execution_count": 30,
   "metadata": {},
   "outputs": [],
   "source": [
    "from langchain.memory import ConversationBufferMemory\n",
    "memory = ConversationBufferMemory()"
   ]
  },
  {
   "cell_type": "code",
   "execution_count": 51,
   "metadata": {},
   "outputs": [],
   "source": [
    "str = docs_comp[0].page_content"
   ]
  },
  {
   "cell_type": "code",
   "execution_count": 40,
   "metadata": {},
   "outputs": [],
   "source": [
    "#memory.save_context({\"input\":\"brazil\"}, {\"output\": str})"
   ]
  },
  {
   "cell_type": "code",
   "execution_count": 59,
   "metadata": {},
   "outputs": [],
   "source": [
    "import pickle \n",
    "new_memory_load = open('memory.pkl', 'rb').read()\n",
    "from langchain.chains import ConversationChain"
   ]
  },
  {
   "cell_type": "code",
   "execution_count": 64,
   "metadata": {},
   "outputs": [],
   "source": [
    "memory = pickle.loads(new_memory_load)\n",
    "memory.save_context({\"input\":\"brazil\"}, {\"output\": str})\n",
    "reload_conversation = ConversationChain(llm = llm, memory = memory)"
   ]
  },
  {
   "cell_type": "code",
   "execution_count": 65,
   "metadata": {},
   "outputs": [
    {
     "data": {
      "text/plain": [
       "[HumanMessage(content='HI!'),\n",
       " AIMessage(content=\"Hello! I'm happy to chat with you. Is there something specific you'd like to talk about?\"),\n",
       " HumanMessage(content='Tell me about you'),\n",
       " AIMessage(content=\"Sure, I'd be happy to tell you about myself! I'm just an AI, which stands for artificial intelligence. I'm a computer program that's been designed to process and generate human-like language. I'm capable of understanding and responding to language inputs, and can even generate my own responses.\\n\\nI was trained on a large dataset of text from the internet, which allows me to have a wide range of knowledge and be able to answer many different types of questions. I'm constantly learning and improving my abilities, so I can become more helpful and accurate over time.\\n\\nAs for my personality, I don't have personal preferences or emotions like humans do. However, I am designed to be helpful and assist users with their questions and tasks. I'm here to provide information and support, so please feel free to ask me anything you'd like to know!\"),\n",
       " HumanMessage(content='What is your name?'),\n",
       " AIMessage(content='My apologies! I\\'m just an AI, so I don\\'t have a name in the classical sense. However, you can call me \"AI Assistant\" if you\\'d like. I\\'m here to help you, so please don\\'t hesitate to ask me anything!'),\n",
       " HumanMessage(content='brazil'),\n",
       " AIMessage(content='Its capital is Braslia, and its most populous city is So Paulo.')]"
      ]
     },
     "execution_count": 65,
     "metadata": {},
     "output_type": "execute_result"
    }
   ],
   "source": [
    "reload_conversation.memory.chat_memory.messages"
   ]
  },
  {
   "cell_type": "code",
   "execution_count": 66,
   "metadata": {},
   "outputs": [
    {
     "data": {
      "text/plain": [
       "\"I'm happy to chat with you. Is there something specific you'd like to talk about?\""
      ]
     },
     "execution_count": 66,
     "metadata": {},
     "output_type": "execute_result"
    }
   ],
   "source": [
    "reload_conversation.predict(input=\"how are you\")"
   ]
  },
  {
   "cell_type": "code",
   "execution_count": 67,
   "metadata": {},
   "outputs": [
    {
     "data": {
      "text/plain": [
       "ConversationBufferMemory(chat_memory=ChatMessageHistory(messages=[HumanMessage(content='HI!'), AIMessage(content=\"Hello! I'm happy to chat with you. Is there something specific you'd like to talk about?\"), HumanMessage(content='Tell me about you'), AIMessage(content=\"Sure, I'd be happy to tell you about myself! I'm just an AI, which stands for artificial intelligence. I'm a computer program that's been designed to process and generate human-like language. I'm capable of understanding and responding to language inputs, and can even generate my own responses.\\n\\nI was trained on a large dataset of text from the internet, which allows me to have a wide range of knowledge and be able to answer many different types of questions. I'm constantly learning and improving my abilities, so I can become more helpful and accurate over time.\\n\\nAs for my personality, I don't have personal preferences or emotions like humans do. However, I am designed to be helpful and assist users with their questions and tasks. I'm here to provide information and support, so please feel free to ask me anything you'd like to know!\"), HumanMessage(content='What is your name?'), AIMessage(content='My apologies! I\\'m just an AI, so I don\\'t have a name in the classical sense. However, you can call me \"AI Assistant\" if you\\'d like. I\\'m here to help you, so please don\\'t hesitate to ask me anything!'), HumanMessage(content='brazil'), AIMessage(content='Its capital is Braslia, and its most populous city is So Paulo.'), HumanMessage(content='how are you'), AIMessage(content=\"I'm happy to chat with you. Is there something specific you'd like to talk about?\")]))"
      ]
     },
     "execution_count": 67,
     "metadata": {},
     "output_type": "execute_result"
    }
   ],
   "source": [
    "reload_conversation.memory.save_context"
   ]
  }
 ],
 "metadata": {
  "kernelspec": {
   "display_name": "envd",
   "language": "python",
   "name": "envd"
  },
  "language_info": {
   "codemirror_mode": {
    "name": "ipython",
    "version": 3
   },
   "file_extension": ".py",
   "mimetype": "text/x-python",
   "name": "python",
   "nbconvert_exporter": "python",
   "pygments_lexer": "ipython3",
   "version": "3.10.0"
  }
 },
 "nbformat": 4,
 "nbformat_minor": 2
}
