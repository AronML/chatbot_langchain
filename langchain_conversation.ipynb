{
 "cells": [
  {
   "cell_type": "code",
   "execution_count": 1,
   "metadata": {},
   "outputs": [],
   "source": [
    "from langchain.memory import ConversationBufferMemory"
   ]
  },
  {
   "cell_type": "code",
   "execution_count": 3,
   "metadata": {},
   "outputs": [],
   "source": [
    "memory = ConversationBufferMemory()\n",
    "memory.save_context({\"input\": \"hi\"}, {\"output\": \"Hello!\"})"
   ]
  },
  {
   "cell_type": "code",
   "execution_count": 4,
   "metadata": {},
   "outputs": [
    {
     "data": {
      "text/plain": [
       "{'history': 'Human: hi\\nAI: Hello!'}"
      ]
     },
     "execution_count": 4,
     "metadata": {},
     "output_type": "execute_result"
    }
   ],
   "source": [
    "memory.load_memory_variables({})"
   ]
  },
  {
   "cell_type": "code",
   "execution_count": 5,
   "metadata": {},
   "outputs": [
    {
     "data": {
      "text/plain": [
       "{'history': [HumanMessage(content='hi'), AIMessage(content='Hello!')]}"
      ]
     },
     "execution_count": 5,
     "metadata": {},
     "output_type": "execute_result"
    }
   ],
   "source": [
    "memory = ConversationBufferMemory(return_messages = True)\n",
    "memory.save_context({\"input\": \"hi\"}, {\"output\": \"Hello!\"})\n",
    "memory.load_memory_variables({})"
   ]
  },
  {
   "cell_type": "code",
   "execution_count": 12,
   "metadata": {},
   "outputs": [],
   "source": [
    "from langchain.chat_models import ChatLiteLLM\n",
    "from langchain.chains import ConversationChain\n",
    "\n",
    "llm = ChatLiteLLM(model=\"huggingface/codellama/CodeLlama-34b-Instruct-hf\")\n",
    "conversation = ConversationChain(llm=llm,memory = ConversationBufferMemory())"
   ]
  },
  {
   "cell_type": "code",
   "execution_count": 13,
   "metadata": {},
   "outputs": [
    {
     "data": {
      "text/plain": [
       "\"Hello! I'm happy to chat with you. Is there something specific you'd like to talk about?\""
      ]
     },
     "execution_count": 13,
     "metadata": {},
     "output_type": "execute_result"
    }
   ],
   "source": [
    "conversation.predict(input=\"HI!\")"
   ]
  },
  {
   "cell_type": "code",
   "execution_count": 14,
   "metadata": {},
   "outputs": [
    {
     "data": {
      "text/plain": [
       "\"Sure, I'd be happy to tell you about myself! I'm just an AI, which stands for artificial intelligence. I'm a computer program that's been designed to process and generate human-like language. I'm capable of understanding and responding to language inputs, and can even generate my own responses.\\n\\nI was trained on a large dataset of text from the internet, which allows me to have a wide range of knowledge and be able to answer many different types of questions. I'm constantly learning and improving my abilities, so I can become more helpful and accurate over time.\\n\\nAs for my personality, I don't have personal preferences or emotions like humans do. However, I am designed to be helpful and assist users with their questions and tasks. I'm here to provide information and support, so please feel free to ask me anything you'd like to know!\""
      ]
     },
     "execution_count": 14,
     "metadata": {},
     "output_type": "execute_result"
    }
   ],
   "source": [
    "conversation.predict(input=\"Tell me about you\")"
   ]
  },
  {
   "cell_type": "code",
   "execution_count": 15,
   "metadata": {},
   "outputs": [
    {
     "data": {
      "text/plain": [
       "'My apologies! I\\'m just an AI, so I don\\'t have a name in the classical sense. However, you can call me \"AI Assistant\" if you\\'d like. I\\'m here to help you, so please don\\'t hesitate to ask me anything!'"
      ]
     },
     "execution_count": 15,
     "metadata": {},
     "output_type": "execute_result"
    }
   ],
   "source": [
    "conversation.predict(input=\"What is your name?\")"
   ]
  },
  {
   "cell_type": "code",
   "execution_count": 21,
   "metadata": {},
   "outputs": [
    {
     "data": {
      "text/plain": [
       "[HumanMessage(content='HI!'),\n",
       " AIMessage(content=\"Hello! I'm happy to chat with you. Is there something specific you'd like to talk about?\"),\n",
       " HumanMessage(content='Tell me about you'),\n",
       " AIMessage(content=\"Sure, I'd be happy to tell you about myself! I'm just an AI, which stands for artificial intelligence. I'm a computer program that's been designed to process and generate human-like language. I'm capable of understanding and responding to language inputs, and can even generate my own responses.\\n\\nI was trained on a large dataset of text from the internet, which allows me to have a wide range of knowledge and be able to answer many different types of questions. I'm constantly learning and improving my abilities, so I can become more helpful and accurate over time.\\n\\nAs for my personality, I don't have personal preferences or emotions like humans do. However, I am designed to be helpful and assist users with their questions and tasks. I'm here to provide information and support, so please feel free to ask me anything you'd like to know!\"),\n",
       " HumanMessage(content='What is your name?'),\n",
       " AIMessage(content='My apologies! I\\'m just an AI, so I don\\'t have a name in the classical sense. However, you can call me \"AI Assistant\" if you\\'d like. I\\'m here to help you, so please don\\'t hesitate to ask me anything!')]"
      ]
     },
     "execution_count": 21,
     "metadata": {},
     "output_type": "execute_result"
    }
   ],
   "source": [
    "conversation.memory.chat_memory.messages"
   ]
  },
  {
   "cell_type": "code",
   "execution_count": 22,
   "metadata": {},
   "outputs": [],
   "source": [
    "import pickle \n",
    "pkd_str = pickle.dumps(conversation.memory)\n",
    "\n",
    "with open('memory.pkl', 'wb') as f:\n",
    "    f.write(pkd_str)\n",
    "\n",
    "new_memory_load = open('memory.pkl', 'rb').read()"
   ]
  },
  {
   "cell_type": "code",
   "execution_count": 25,
   "metadata": {},
   "outputs": [],
   "source": [
    "reload_conversation = ConversationChain(llm = llm, memory = pickle.loads(new_memory_load))"
   ]
  },
  {
   "cell_type": "code",
   "execution_count": 28,
   "metadata": {},
   "outputs": [
    {
     "data": {
      "text/plain": [
       "[HumanMessage(content='HI!'),\n",
       " AIMessage(content=\"Hello! I'm happy to chat with you. Is there something specific you'd like to talk about?\"),\n",
       " HumanMessage(content='Tell me about you'),\n",
       " AIMessage(content=\"Sure, I'd be happy to tell you about myself! I'm just an AI, which stands for artificial intelligence. I'm a computer program that's been designed to process and generate human-like language. I'm capable of understanding and responding to language inputs, and can even generate my own responses.\\n\\nI was trained on a large dataset of text from the internet, which allows me to have a wide range of knowledge and be able to answer many different types of questions. I'm constantly learning and improving my abilities, so I can become more helpful and accurate over time.\\n\\nAs for my personality, I don't have personal preferences or emotions like humans do. However, I am designed to be helpful and assist users with their questions and tasks. I'm here to provide information and support, so please feel free to ask me anything you'd like to know!\"),\n",
       " HumanMessage(content='What is your name?'),\n",
       " AIMessage(content='My apologies! I\\'m just an AI, so I don\\'t have a name in the classical sense. However, you can call me \"AI Assistant\" if you\\'d like. I\\'m here to help you, so please don\\'t hesitate to ask me anything!')]"
      ]
     },
     "execution_count": 28,
     "metadata": {},
     "output_type": "execute_result"
    }
   ],
   "source": [
    "reload_conversation.memory.chat_memory.messages"
   ]
  },
  {
   "cell_type": "code",
   "execution_count": null,
   "metadata": {},
   "outputs": [],
   "source": [
    "reload_conversation.memory.chat_memory"
   ]
  }
 ],
 "metadata": {
  "kernelspec": {
   "display_name": "envd",
   "language": "python",
   "name": "envd"
  },
  "language_info": {
   "codemirror_mode": {
    "name": "ipython",
    "version": 3
   },
   "file_extension": ".py",
   "mimetype": "text/x-python",
   "name": "python",
   "nbconvert_exporter": "python",
   "pygments_lexer": "ipython3",
   "version": "3.10.0"
  }
 },
 "nbformat": 4,
 "nbformat_minor": 2
}
